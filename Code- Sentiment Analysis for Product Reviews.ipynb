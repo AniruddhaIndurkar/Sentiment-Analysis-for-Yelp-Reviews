{
 "cells": [
  {
   "cell_type": "markdown",
   "metadata": {},
   "source": [
    "# Sentiment Classification on Product Reviews\n",
    "\n",
    "Programming Language: R 3.6 in Jupyter Notebook\n",
    "\n",
    "Project Members:\n",
    "* Akshay Sapra\n",
    "* Aniruddha Indurkar\n",
    "* Nikita Bhargav\n",
    "\n",
    "Python Libraries used:\n",
    "- pandas\n",
    "- nltk\n",
    "- sklearn\n",
    "- matplotlib\n",
    "- seaborn\n"
   ]
  },
  {
   "cell_type": "markdown",
   "metadata": {},
   "source": [
    "## Introduction"
   ]
  },
  {
   "cell_type": "markdown",
   "metadata": {},
   "source": [
    "This Notebook is about sentimental analysis of Yelp data(reviews) where we have predicted sentimental polarity (strong negative, weak negative, neutral, weak positive, and strong positive) of reviews using TF-IDF feature selection and multinomial logistic classifier. This notebook also calculates the accuracy provided by logistic model.\n",
    "\n",
    "We are provided with 3 text files:\n",
    "* train_data.csv consist of all the reviews for training our model.\n",
    "* train_label.csv consist of all the labels for training our model.\n",
    "* test_data.csv consist of all the test data used for testing the model we learned from training data with a missing labels.\n",
    "\n",
    "Training data consists of 650k rows with train_data.csv(trn_id and text) and train_label.csv(trn_id,labels) as columns.\n",
    "Test data consists of 50k rows with test_data.csv(text) column.\n",
    "\n",
    "This notebook is divided into several tasks:\n",
    "\n",
    "- The first section of the notebook shows pre-processing and feature extraction.\n",
    "- The second section shows training our model and calculating accuracy.\n",
    "- The third section shows testing our model.\n"
   ]
  },
  {
   "cell_type": "markdown",
   "metadata": {},
   "source": [
    "# Libraries Used"
   ]
  },
  {
   "cell_type": "code",
   "execution_count": null,
   "metadata": {},
   "outputs": [],
   "source": [
    "import pandas as pd  \n",
    "from nltk.stem import WordNetLemmatizer #lemmetizing of tokens\n",
    "from nltk.corpus import wordnet \n",
    "from nltk import word_tokenize\n",
    "from sklearn.model_selection import train_test_split \n",
    "from sklearn.linear_model import LogisticRegression \n",
    "from sklearn.metrics import confusion_matrix, classification_report \n",
    "import matplotlib.pyplot as plt \n",
    "import seaborn as sns  "
   ]
  },
  {
   "cell_type": "markdown",
   "metadata": {},
   "source": [
    "# Reading the CSV files"
   ]
  },
  {
   "cell_type": "markdown",
   "metadata": {},
   "source": [
    "Loading dataset into traindata from train_data file and trainlabel from train_label"
   ]
  },
  {
   "cell_type": "code",
   "execution_count": 6,
   "metadata": {},
   "outputs": [],
   "source": [
    "traindata=pd.read_csv('./train_data.csv', encoding='ISO-8859-1') # Loading Training review data\n",
    "trainlabel=pd.read_csv('./train_label.csv', encoding='ISO-8859-1') # Loading Training label data"
   ]
  },
  {
   "cell_type": "code",
   "execution_count": null,
   "metadata": {},
   "outputs": [],
   "source": [
    "## Slice of lower sample\n",
    "# traindata=traindata.iloc[0:20000,:].copy()"
   ]
  },
  {
   "cell_type": "markdown",
   "metadata": {},
   "source": [
    "Merging the training dataset set"
   ]
  },
  {
   "cell_type": "code",
   "execution_count": 8,
   "metadata": {},
   "outputs": [],
   "source": [
    "review_data = pd.merge(traindata,trainlabel, on=['trn_id']) # merging training data with training label data"
   ]
  },
  {
   "cell_type": "markdown",
   "metadata": {},
   "source": [
    "Calculating length of each review for analysing distribution of each label"
   ]
  },
  {
   "cell_type": "code",
   "execution_count": 7,
   "metadata": {},
   "outputs": [],
   "source": [
    "review_data['textlength'] = review_data['text'].apply(len) # to calculate length of each review"
   ]
  },
  {
   "cell_type": "code",
   "execution_count": 9,
   "metadata": {},
   "outputs": [
    {
     "data": {
      "text/plain": [
       "<seaborn.axisgrid.FacetGrid at 0x2480fdf4588>"
      ]
     },
     "execution_count": 9,
     "metadata": {},
     "output_type": "execute_result"
    },
    {
     "data": {
      "image/png": "[encoded data removed]",
      "text/plain": [
       "<matplotlib.figure.Figure at 0x24806bb2320>"
      ]
     },
     "metadata": {},
     "output_type": "display_data"
    }
   ],
   "source": [
    "g = sns.FacetGrid(data=review_data, col='label')\n",
    "g.map(plt.hist, 'textlength', bins=50)"
   ]
  },
  {
   "cell_type": "markdown",
   "metadata": {},
   "source": [
    "Distribution of review length is similar for all 5 labels. label 3,4 and 5 are seems to be more left skewed. This may show some effect later. "
   ]
  },
  {
   "cell_type": "code",
   "execution_count": 18,
   "metadata": {},
   "outputs": [
    {
     "data": {
      "text/plain": [
       "<matplotlib.axes._subplots.AxesSubplot at 0x2480e3ee518>"
      ]
     },
     "execution_count": 18,
     "metadata": {},
     "output_type": "execute_result"
    },
    {
     "data": {
      "image/png": "[encoded data removed]",
      "text/plain": [
       "<matplotlib.figure.Figure at 0x24821067438>"
      ]
     },
     "metadata": {},
     "output_type": "display_data"
    }
   ],
   "source": [
    "sns.boxplot(x='label', y='textlength', data=review_data)"
   ]
  },
  {
   "cell_type": "markdown",
   "metadata": {},
   "source": [
    "There are some outliers as well in label 2, 3 and 4 "
   ]
  },
  {
   "cell_type": "markdown",
   "metadata": {},
   "source": [
    "##  Pre Processing and TF-IDF Feature Extraction"
   ]
  },
  {
   "cell_type": "markdown",
   "metadata": {},
   "source": [
    "For pre processing we have perform:\n",
    "* Word tokenization using \"(?u)\\\\b\\\\w\\\\w+\\\\b\" pattern\n",
    "* Removing tokens with document frequency less than equal to 3\n",
    "* Considering unigrams, bigrams and trigrams tokens\n",
    "* Lemmatization for obtaing root words\n"
   ]
  },
  {
   "cell_type": "markdown",
   "metadata": {},
   "source": [
    "Feature Extraction using TF-IDF Vector "
   ]
  },
  {
   "cell_type": "code",
   "execution_count": 2,
   "metadata": {},
   "outputs": [],
   "source": [
    "# Creating TF-IDF Vector\n",
    "\n",
    "class LemmaTokenizer(object):  # class to lemmatize the tokens\n",
    "    def __init__(self):\n",
    "        self.wnl=WordNetLemmatizer()\n",
    "    def __call__(self,doc):\n",
    "        return [self.wnl.lemmatize(t) for t in word_tokenize(doc)]\n",
    "\n",
    "\n",
    "trainDocs=traindata['text'].tolist() # converting string to list\n",
    "\n",
    "vectorizer=TfidfVectorizer(analyzer='word',input='content',\n",
    "                           token_pattern='(?u)\\\\b\\\\w\\\\w+\\\\b',  # tokenizing pattern\n",
    "                           min_df=3,                           # Removing rare tokens\n",
    "                           ngram_range=(1,3),                  # Considering unigrams, bigrams and trigrams\n",
    "                           max_features=4930398,\n",
    "                           max_df=.99,                         #Context independent stop words removal\n",
    "                           tokenizer=LemmaTokenizer())         # calling lemmatizing function\n",
    "\n",
    "\n",
    "x_train=vectorizer.fit_transform(trainDocs) # Creating TF-IDF sparse matrix"
   ]
  },
  {
   "cell_type": "markdown",
   "metadata": {},
   "source": [
    "## Logistic Model Training and validation"
   ]
  },
  {
   "cell_type": "markdown",
   "metadata": {},
   "source": [
    "Spliting the dataset into traning data(90%) and validation data/test data(10%)"
   ]
  },
  {
   "cell_type": "code",
   "execution_count": 6,
   "metadata": {},
   "outputs": [],
   "source": [
    "X_train, X_test, y_train, y_test = train_test_split(x_train, training_label['label'],test_size=0.10)"
   ]
  },
  {
   "cell_type": "markdown",
   "metadata": {},
   "source": [
    "Using Multiclass logistic model for predicting categorical response as 5 different labels{1,2,3,4,5}."
   ]
  },
  {
   "cell_type": "markdown",
   "metadata": {},
   "source": [
    "Creating logistic model with tuned parameters\n",
    " "
   ]
  },
  {
   "cell_type": "code",
   "execution_count": 7,
   "metadata": {},
   "outputs": [
    {
     "name": "stdout",
     "output_type": "stream",
     "text": [
      "[[10390  2084   235    39    70]\n",
      " [ 2978  7305  2352   251   134]\n",
      " [  643  2458  7265  2386   383]\n",
      " [  156   288  1938  7587  3064]\n",
      " [  123    55   198  2539 10079]]\n",
      "\n",
      "\n",
      "              precision    recall  f1-score   support\n",
      "\n",
      "           1       0.73      0.81      0.77     12818\n",
      "           2       0.60      0.56      0.58     13020\n",
      "           3       0.61      0.55      0.58     13135\n",
      "           4       0.59      0.58      0.59     13033\n",
      "           5       0.73      0.78      0.75     12994\n",
      "\n",
      "   micro avg       0.66      0.66      0.66     65000\n",
      "   macro avg       0.65      0.66      0.65     65000\n",
      "weighted avg       0.65      0.66      0.65     65000\n",
      "\n"
     ]
    }
   ],
   "source": [
    "clf = LogisticRegression(random_state=1, solver='liblinear', multi_class='ovr').fit(X_train, y_train)\n",
    "pred=clf.predict(X_test) # Predicting labels for test data\n",
    "print(confusion_matrix(y_test, pred)) # confusion matrix for predicted data\n",
    "print('\\n')\n",
    "print(classification_report(y_test, pred))"
   ]
  },
  {
   "cell_type": "markdown",
   "metadata": {},
   "source": [
    "Solver set as liblinear supports both L1 and L2 regularization.\n",
    "Multiclass set as ovr shows that model is using one vs rest classification."
   ]
  },
  {
   "cell_type": "markdown",
   "metadata": {},
   "source": [
    "Classification report provides a matrix consist of 4 columns:\n",
    "Precision - That represents measure of accuracy for all the labels\n",
    "recall - shows measure of sensitivityfor all the labels\n",
    "\n",
    "F1 Score weighted average of precision and recall\n",
    "F1 score is calculated using following formula:\n",
    "F1 Score  = 2*(R*P)/(R+P)\n"
   ]
  },
  {
   "cell_type": "markdown",
   "metadata": {},
   "source": [
    "# Calculating Accuracy"
   ]
  },
  {
   "cell_type": "markdown",
   "metadata": {},
   "source": [
    "Calculating accuracy for 90% train data and 10% test data"
   ]
  },
  {
   "cell_type": "code",
   "execution_count": 8,
   "metadata": {},
   "outputs": [
    {
     "name": "stdout",
     "output_type": "stream",
     "text": [
      "0.6557846153846154\n"
     ]
    }
   ],
   "source": [
    "print(metrics.accuracy_score( y_test,pred))"
   ]
  },
  {
   "cell_type": "markdown",
   "metadata": {},
   "source": [
    "This shows that accuracy for TF_IDF vector using multiclass logistic model is 65.59%"
   ]
  },
  {
   "cell_type": "markdown",
   "metadata": {},
   "source": [
    "## Training the complete Model"
   ]
  },
  {
   "cell_type": "code",
   "execution_count": 17,
   "metadata": {},
   "outputs": [],
   "source": [
    "class LemmaTokenizer(object): # class to lemmatize the tokens\n",
    "    def __init__(self):\n",
    "        self.wnl= WordNetLemmatizer()\n",
    "    def __call__(self,doc):\n",
    "        return [self.wnl.lemmatize(t) for t in word_tokenize(doc)]\n",
    "\n",
    "vectorizer=TfidfVectorizer(analyzer='word',input='content',\n",
    "                           token_pattern='(?u)\\\\b\\\\w\\\\w+\\\\b',  # tokenizing pattern\n",
    "                           min_df=3,                           # Removing rare tokens\n",
    "                           ngram_range=(1,3),                  # Considering unigrams, bigrams and trigrams\n",
    "                           max_features=4930398,\n",
    "                           max_df=.99,                         #Context independent stop words removal\n",
    "                           tokenizer=LemmaTokenizer())         # calling lemmatizing function\n",
    "\n",
    "x_train=vectorizer.fit_transform(trainDocs) # Creating TF-IDF sparse matrix"
   ]
  },
  {
   "cell_type": "markdown",
   "metadata": {},
   "source": [
    "## Testing the model"
   ]
  },
  {
   "cell_type": "code",
   "execution_count": null,
   "metadata": {},
   "outputs": [],
   "source": [
    "testdata=pd.read_csv('./test_data.csv', encoding='ISO-8859-1') # fetching test data\n",
    "testDocs=testdata['text'].tolist()        # converting string to list\n",
    "real_test =vectorizer.transform(testDocs) # Transforming Test Data according to Train Data TF-IDF sparse matrix\n"
   ]
  },
  {
   "cell_type": "markdown",
   "metadata": {},
   "source": [
    "## Fitting Logistic Model"
   ]
  },
  {
   "cell_type": "code",
   "execution_count": 26,
   "metadata": {},
   "outputs": [],
   "source": [
    "# training over complete model\n",
    "clf = LogisticRegression(random_state=1, solver='liblinear', multi_class='ovr').fit(x_train, training_label['label'])\n"
   ]
  },
  {
   "cell_type": "markdown",
   "metadata": {},
   "source": [
    "Solver set as liblinear supports both L1 and L2 regularization.\n",
    "Multiclass set as ovr shows that model is using one vs rest classification."
   ]
  },
  {
   "cell_type": "markdown",
   "metadata": {},
   "source": [
    "## Predicting the labels"
   ]
  },
  {
   "cell_type": "code",
   "execution_count": 27,
   "metadata": {},
   "outputs": [],
   "source": [
    "pred_test=clf.predict(real_test)"
   ]
  },
  {
   "cell_type": "markdown",
   "metadata": {},
   "source": [
    "Appending predicted labels to test dataframe."
   ]
  },
  {
   "cell_type": "code",
   "execution_count": 28,
   "metadata": {},
   "outputs": [
    {
     "data": {
      "text/html": [
       "<div>\n",
       "<style scoped>\n",
       "    .dataframe tbody tr th:only-of-type {\n",
       "        vertical-align: middle;\n",
       "    }\n",
       "\n",
       "    .dataframe tbody tr th {\n",
       "        vertical-align: top;\n",
       "    }\n",
       "\n",
       "    .dataframe thead th {\n",
       "        text-align: right;\n",
       "    }\n",
       "</style>\n",
       "<table border=\"1\" class=\"dataframe\">\n",
       "  <thead>\n",
       "    <tr style=\"text-align: right;\">\n",
       "      <th></th>\n",
       "      <th>test_id</th>\n",
       "      <th>text</th>\n",
       "      <th>label</th>\n",
       "    </tr>\n",
       "  </thead>\n",
       "  <tbody>\n",
       "    <tr>\n",
       "      <th>0</th>\n",
       "      <td>test_1</td>\n",
       "      <td>trying to have a nice quiet dinner.  the annou...</td>\n",
       "      <td>2</td>\n",
       "    </tr>\n",
       "    <tr>\n",
       "      <th>1</th>\n",
       "      <td>test_2</td>\n",
       "      <td>Been getting food to go from here for over 3yr...</td>\n",
       "      <td>4</td>\n",
       "    </tr>\n",
       "    <tr>\n",
       "      <th>2</th>\n",
       "      <td>test_3</td>\n",
       "      <td>Ugh. I've had to eat here a couple of times be...</td>\n",
       "      <td>2</td>\n",
       "    </tr>\n",
       "    <tr>\n",
       "      <th>3</th>\n",
       "      <td>test_4</td>\n",
       "      <td>The people here are so nice! I ordered on eat ...</td>\n",
       "      <td>5</td>\n",
       "    </tr>\n",
       "    <tr>\n",
       "      <th>4</th>\n",
       "      <td>test_5</td>\n",
       "      <td>Heard alot of good things about this place and...</td>\n",
       "      <td>4</td>\n",
       "    </tr>\n",
       "  </tbody>\n",
       "</table>\n",
       "</div>"
      ],
      "text/plain": [
       "  test_id                                               text  label\n",
       "0  test_1  trying to have a nice quiet dinner.  the annou...      2\n",
       "1  test_2  Been getting food to go from here for over 3yr...      4\n",
       "2  test_3  Ugh. I've had to eat here a couple of times be...      2\n",
       "3  test_4  The people here are so nice! I ordered on eat ...      5\n",
       "4  test_5  Heard alot of good things about this place and...      4"
      ]
     },
     "execution_count": 28,
     "metadata": {},
     "output_type": "execute_result"
    }
   ],
   "source": [
    "testdata['label']=pred_test\n",
    "testdata.head()\n",
    "# pred_test"
   ]
  },
  {
   "cell_type": "markdown",
   "metadata": {},
   "source": [
    "## Writing Labels Into CSV File"
   ]
  },
  {
   "cell_type": "code",
   "execution_count": 29,
   "metadata": {},
   "outputs": [],
   "source": [
    "testdata[[\"test_id\",\"label\"]].to_csv(\"predict_label.csv\",sep=\",\",index=False)"
   ]
  },
  {
   "cell_type": "markdown",
   "metadata": {},
   "source": [
    "The accuracy for the whole logistic model for test data is 65.826%"
   ]
  },
  {
   "cell_type": "markdown",
   "metadata": {},
   "source": [
    "## Conclusion"
   ]
  },
  {
   "cell_type": "markdown",
   "metadata": {},
   "source": [
    "For the sentimental analysis it can be observed that Logistic model with TF-IDF vectors predicts sentimental lables with highest accuracy of 65.82%. "
   ]
  }
 ],
 "metadata": {
  "kernelspec": {
   "display_name": "Python 3",
   "language": "python",
   "name": "python3"
  },
  "language_info": {
   "codemirror_mode": {
    "name": "ipython",
    "version": 3
   },
   "file_extension": ".py",
   "mimetype": "text/x-python",
   "name": "python",
   "nbconvert_exporter": "python",
   "pygments_lexer": "ipython3",
   "version": "3.7.0"
  }
 },
 "nbformat": 4,
 "nbformat_minor": 2
}
